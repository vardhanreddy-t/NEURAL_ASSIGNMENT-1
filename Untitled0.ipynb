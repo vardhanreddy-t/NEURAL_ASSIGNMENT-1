{
  "nbformat": 4,
  "nbformat_minor": 0,
  "metadata": {
    "colab": {
      "provenance": [],
      "authorship_tag": "ABX9TyNkHkHeaS7a+F/8Pc+iESpH",
      "include_colab_link": true
    },
    "kernelspec": {
      "name": "python3",
      "display_name": "Python 3"
    },
    "language_info": {
      "name": "python"
    }
  },
  "cells": [
    {
      "cell_type": "markdown",
      "metadata": {
        "id": "view-in-github",
        "colab_type": "text"
      },
      "source": [
        "<a href=\"https://colab.research.google.com/github/vardhanreddy-t/NEURAL_ASSIGNMENT-1/blob/main/Untitled0.ipynb\" target=\"_parent\"><img src=\"https://colab.research.google.com/assets/colab-badge.svg\" alt=\"Open In Colab\"/></a>"
      ]
    },
    {
      "cell_type": "markdown",
      "source": [
        "Write a program that takes two strings from the user: first_name, last_name. Pass these variables to\n",
        "fullname function that should return the (full name).\n"
      ],
      "metadata": {
        "id": "YrsOsZ20FGpJ"
      }
    },
    {
      "cell_type": "code",
      "execution_count": 1,
      "metadata": {
        "colab": {
          "base_uri": "https://localhost:8080/"
        },
        "id": "mP7T3xBUAR5q",
        "outputId": "6e7fb380-ba54-4a64-b829-e08f1e619792"
      },
      "outputs": [
        {
          "output_type": "stream",
          "name": "stdout",
          "text": [
            "Enter your first name Vardhan\n",
            "Enter your last name reddy\n",
            "Your fullname is Vardhan reddy\n",
            "The alternate string is:  Vrhnrdy\n"
          ]
        }
      ],
      "source": [
        "your_firstname=input(\"Enter your first name \")\n",
        "your_lastname=input(\"Enter your last name \")\n",
        "\n",
        "def fullname(your_firstname,your_lastname):\n",
        "    global your_fullname\n",
        "    your_fullname=your_firstname+\" \"+your_lastname\n",
        "    print(\"Your fullname is \" + your_fullname)\n",
        "fullname(your_firstname,your_lastname)\n",
        "\n",
        "#For displaying the alternate string\n",
        "def alternate_string(your_fullname):\n",
        "    fullname=your_fullname[::2] # for showing the alternate letters\n",
        "    print(\"The alternate string is: \" ,fullname) #printing the alternate string of fullname\n",
        "alternate_string(your_fullname)\n"
      ]
    },
    {
      "cell_type": "markdown",
      "source": [
        "Write a python program to find the wordcount in a file (input.txt) for each line and then print the output.\n",
        "Finally store the output in output.txt file.\n"
      ],
      "metadata": {
        "id": "ELjvj7gAH0Zo"
      }
    },
    {
      "cell_type": "code",
      "source": [
        "from google.colab import files\n",
        "\n",
        "def wordcount():\n",
        "    # Step 1: Upload the input file\n",
        "    uploaded = files.upload()\n",
        "\n",
        "    # Get the uploaded file name\n",
        "    input_file_name = list(uploaded.keys())[0]\n",
        "\n",
        "    # Step 2: Process the file and generate output\n",
        "    with open(input_file_name, \"r\") as fileinput:\n",
        "        inputting_data = fileinput.readlines()\n",
        "\n",
        "    output_file_name = \"output_files.txt\"\n",
        "    with open(output_file_name, \"w\") as fileoutput:\n",
        "        fileoutput.writelines(inputting_data)\n",
        "\n",
        "        # Displaying the word count\n",
        "        fileoutput.write(\"\\nThe word count of input file is : \\n\")\n",
        "\n",
        "        word_dict = {}\n",
        "        for i in inputting_data:  # For each line\n",
        "            words = i.strip().split()  # Split words by whitespace\n",
        "            for j in words:\n",
        "                # Count the occurrences of each word in the line\n",
        "                if j in word_dict:\n",
        "                    word_dict[j] += 1\n",
        "                else:\n",
        "                    word_dict[j] = 1\n",
        "\n",
        "        for word, count in word_dict.items():\n",
        "            separate = f\"{word}: {count}\\n\"\n",
        "            print(separate, end='')  # Print the word and its count\n",
        "            fileoutput.write(separate)  # Write to the output file\n",
        "\n",
        "    # Step 3: Download the output file\n",
        "    files.download(output_file_name)\n",
        "\n",
        "# Call the function\n",
        "wordcount()\n"
      ],
      "metadata": {
        "colab": {
          "base_uri": "https://localhost:8080/",
          "height": 142
        },
        "id": "i0ApX003HCBC",
        "outputId": "4e2c61fa-d956-4b12-df6c-f5c30507e6a1"
      },
      "execution_count": 4,
      "outputs": [
        {
          "output_type": "display_data",
          "data": {
            "text/plain": [
              "<IPython.core.display.HTML object>"
            ],
            "text/html": [
              "\n",
              "     <input type=\"file\" id=\"files-ad153d48-d7d4-4252-a748-9e3ace46c0f3\" name=\"files[]\" multiple disabled\n",
              "        style=\"border:none\" />\n",
              "     <output id=\"result-ad153d48-d7d4-4252-a748-9e3ace46c0f3\">\n",
              "      Upload widget is only available when the cell has been executed in the\n",
              "      current browser session. Please rerun this cell to enable.\n",
              "      </output>\n",
              "      <script>// Copyright 2017 Google LLC\n",
              "//\n",
              "// Licensed under the Apache License, Version 2.0 (the \"License\");\n",
              "// you may not use this file except in compliance with the License.\n",
              "// You may obtain a copy of the License at\n",
              "//\n",
              "//      http://www.apache.org/licenses/LICENSE-2.0\n",
              "//\n",
              "// Unless required by applicable law or agreed to in writing, software\n",
              "// distributed under the License is distributed on an \"AS IS\" BASIS,\n",
              "// WITHOUT WARRANTIES OR CONDITIONS OF ANY KIND, either express or implied.\n",
              "// See the License for the specific language governing permissions and\n",
              "// limitations under the License.\n",
              "\n",
              "/**\n",
              " * @fileoverview Helpers for google.colab Python module.\n",
              " */\n",
              "(function(scope) {\n",
              "function span(text, styleAttributes = {}) {\n",
              "  const element = document.createElement('span');\n",
              "  element.textContent = text;\n",
              "  for (const key of Object.keys(styleAttributes)) {\n",
              "    element.style[key] = styleAttributes[key];\n",
              "  }\n",
              "  return element;\n",
              "}\n",
              "\n",
              "// Max number of bytes which will be uploaded at a time.\n",
              "const MAX_PAYLOAD_SIZE = 100 * 1024;\n",
              "\n",
              "function _uploadFiles(inputId, outputId) {\n",
              "  const steps = uploadFilesStep(inputId, outputId);\n",
              "  const outputElement = document.getElementById(outputId);\n",
              "  // Cache steps on the outputElement to make it available for the next call\n",
              "  // to uploadFilesContinue from Python.\n",
              "  outputElement.steps = steps;\n",
              "\n",
              "  return _uploadFilesContinue(outputId);\n",
              "}\n",
              "\n",
              "// This is roughly an async generator (not supported in the browser yet),\n",
              "// where there are multiple asynchronous steps and the Python side is going\n",
              "// to poll for completion of each step.\n",
              "// This uses a Promise to block the python side on completion of each step,\n",
              "// then passes the result of the previous step as the input to the next step.\n",
              "function _uploadFilesContinue(outputId) {\n",
              "  const outputElement = document.getElementById(outputId);\n",
              "  const steps = outputElement.steps;\n",
              "\n",
              "  const next = steps.next(outputElement.lastPromiseValue);\n",
              "  return Promise.resolve(next.value.promise).then((value) => {\n",
              "    // Cache the last promise value to make it available to the next\n",
              "    // step of the generator.\n",
              "    outputElement.lastPromiseValue = value;\n",
              "    return next.value.response;\n",
              "  });\n",
              "}\n",
              "\n",
              "/**\n",
              " * Generator function which is called between each async step of the upload\n",
              " * process.\n",
              " * @param {string} inputId Element ID of the input file picker element.\n",
              " * @param {string} outputId Element ID of the output display.\n",
              " * @return {!Iterable<!Object>} Iterable of next steps.\n",
              " */\n",
              "function* uploadFilesStep(inputId, outputId) {\n",
              "  const inputElement = document.getElementById(inputId);\n",
              "  inputElement.disabled = false;\n",
              "\n",
              "  const outputElement = document.getElementById(outputId);\n",
              "  outputElement.innerHTML = '';\n",
              "\n",
              "  const pickedPromise = new Promise((resolve) => {\n",
              "    inputElement.addEventListener('change', (e) => {\n",
              "      resolve(e.target.files);\n",
              "    });\n",
              "  });\n",
              "\n",
              "  const cancel = document.createElement('button');\n",
              "  inputElement.parentElement.appendChild(cancel);\n",
              "  cancel.textContent = 'Cancel upload';\n",
              "  const cancelPromise = new Promise((resolve) => {\n",
              "    cancel.onclick = () => {\n",
              "      resolve(null);\n",
              "    };\n",
              "  });\n",
              "\n",
              "  // Wait for the user to pick the files.\n",
              "  const files = yield {\n",
              "    promise: Promise.race([pickedPromise, cancelPromise]),\n",
              "    response: {\n",
              "      action: 'starting',\n",
              "    }\n",
              "  };\n",
              "\n",
              "  cancel.remove();\n",
              "\n",
              "  // Disable the input element since further picks are not allowed.\n",
              "  inputElement.disabled = true;\n",
              "\n",
              "  if (!files) {\n",
              "    return {\n",
              "      response: {\n",
              "        action: 'complete',\n",
              "      }\n",
              "    };\n",
              "  }\n",
              "\n",
              "  for (const file of files) {\n",
              "    const li = document.createElement('li');\n",
              "    li.append(span(file.name, {fontWeight: 'bold'}));\n",
              "    li.append(span(\n",
              "        `(${file.type || 'n/a'}) - ${file.size} bytes, ` +\n",
              "        `last modified: ${\n",
              "            file.lastModifiedDate ? file.lastModifiedDate.toLocaleDateString() :\n",
              "                                    'n/a'} - `));\n",
              "    const percent = span('0% done');\n",
              "    li.appendChild(percent);\n",
              "\n",
              "    outputElement.appendChild(li);\n",
              "\n",
              "    const fileDataPromise = new Promise((resolve) => {\n",
              "      const reader = new FileReader();\n",
              "      reader.onload = (e) => {\n",
              "        resolve(e.target.result);\n",
              "      };\n",
              "      reader.readAsArrayBuffer(file);\n",
              "    });\n",
              "    // Wait for the data to be ready.\n",
              "    let fileData = yield {\n",
              "      promise: fileDataPromise,\n",
              "      response: {\n",
              "        action: 'continue',\n",
              "      }\n",
              "    };\n",
              "\n",
              "    // Use a chunked sending to avoid message size limits. See b/62115660.\n",
              "    let position = 0;\n",
              "    do {\n",
              "      const length = Math.min(fileData.byteLength - position, MAX_PAYLOAD_SIZE);\n",
              "      const chunk = new Uint8Array(fileData, position, length);\n",
              "      position += length;\n",
              "\n",
              "      const base64 = btoa(String.fromCharCode.apply(null, chunk));\n",
              "      yield {\n",
              "        response: {\n",
              "          action: 'append',\n",
              "          file: file.name,\n",
              "          data: base64,\n",
              "        },\n",
              "      };\n",
              "\n",
              "      let percentDone = fileData.byteLength === 0 ?\n",
              "          100 :\n",
              "          Math.round((position / fileData.byteLength) * 100);\n",
              "      percent.textContent = `${percentDone}% done`;\n",
              "\n",
              "    } while (position < fileData.byteLength);\n",
              "  }\n",
              "\n",
              "  // All done.\n",
              "  yield {\n",
              "    response: {\n",
              "      action: 'complete',\n",
              "    }\n",
              "  };\n",
              "}\n",
              "\n",
              "scope.google = scope.google || {};\n",
              "scope.google.colab = scope.google.colab || {};\n",
              "scope.google.colab._files = {\n",
              "  _uploadFiles,\n",
              "  _uploadFilesContinue,\n",
              "};\n",
              "})(self);\n",
              "</script> "
            ]
          },
          "metadata": {}
        },
        {
          "output_type": "stream",
          "name": "stdout",
          "text": [
            "Saving imput.txt to imput.txt\n",
            "Python: 1\n",
            "Course: 2\n",
            "Deep: 1\n",
            "Learning: 1\n"
          ]
        },
        {
          "output_type": "display_data",
          "data": {
            "text/plain": [
              "<IPython.core.display.Javascript object>"
            ],
            "application/javascript": [
              "\n",
              "    async function download(id, filename, size) {\n",
              "      if (!google.colab.kernel.accessAllowed) {\n",
              "        return;\n",
              "      }\n",
              "      const div = document.createElement('div');\n",
              "      const label = document.createElement('label');\n",
              "      label.textContent = `Downloading \"${filename}\": `;\n",
              "      div.appendChild(label);\n",
              "      const progress = document.createElement('progress');\n",
              "      progress.max = size;\n",
              "      div.appendChild(progress);\n",
              "      document.body.appendChild(div);\n",
              "\n",
              "      const buffers = [];\n",
              "      let downloaded = 0;\n",
              "\n",
              "      const channel = await google.colab.kernel.comms.open(id);\n",
              "      // Send a message to notify the kernel that we're ready.\n",
              "      channel.send({})\n",
              "\n",
              "      for await (const message of channel.messages) {\n",
              "        // Send a message to notify the kernel that we're ready.\n",
              "        channel.send({})\n",
              "        if (message.buffers) {\n",
              "          for (const buffer of message.buffers) {\n",
              "            buffers.push(buffer);\n",
              "            downloaded += buffer.byteLength;\n",
              "            progress.value = downloaded;\n",
              "          }\n",
              "        }\n",
              "      }\n",
              "      const blob = new Blob(buffers, {type: 'application/binary'});\n",
              "      const a = document.createElement('a');\n",
              "      a.href = window.URL.createObjectURL(blob);\n",
              "      a.download = filename;\n",
              "      div.appendChild(a);\n",
              "      a.click();\n",
              "      div.remove();\n",
              "    }\n",
              "  "
            ]
          },
          "metadata": {}
        },
        {
          "output_type": "display_data",
          "data": {
            "text/plain": [
              "<IPython.core.display.Javascript object>"
            ],
            "application/javascript": [
              "download(\"download_79a3b77f-b19d-481a-8db2-bcbe933b9aca\", \"output_files.txt\", 110)"
            ]
          },
          "metadata": {}
        }
      ]
    },
    {
      "cell_type": "markdown",
      "source": [
        "Write a program, which reads heights (inches.) of customers into a list and convert these\n",
        "heights to centimeters in a separate list using:\n",
        "1) Nested Interactive loop.\n",
        "2) List comprehensions\n"
      ],
      "metadata": {
        "id": "M4naDRtFFFHv"
      }
    },
    {
      "cell_type": "code",
      "source": [
        "def inches_to_centimeters(heights_inches):\n",
        "    # Convert a list of heights from inches to centimeters.\n",
        "    # Each height in inches is multiplied by 2.54 and rounded to 2 decimal places.\n",
        "    return [round(inch * 2.54, 2) for inch in heights_inches]\n",
        "\n",
        "def main():\n",
        "    try:\n",
        "        # Prompt the user to enter the number of customers and convert the input to an integer.\n",
        "        num_customers = int(input(\"Enter the number of customers: \"))\n",
        "\n",
        "        # Collect heights in inches from the user using list comprehension.\n",
        "        # For each customer, prompt the user to enter their height in inches.\n",
        "        # Convert the input to a float and store it in the list `heights_inches`.\n",
        "        heights_inches = [float(input(f\"Enter height (in inches) for customer {i + 1}: \")) for i in range(num_customers)]\n",
        "\n",
        "        # Convert the list of heights from inches to centimeters by calling the inches_to_centimeters function.\n",
        "        heights_centimeters = inches_to_centimeters(heights_inches)\n",
        "\n",
        "        # Print the original heights in inches and their corresponding values in centimeters.\n",
        "        print(\"\\nHeights (in inches):\", heights_inches)\n",
        "        print(\"Heights (in centimeters):\", heights_centimeters)\n",
        "\n",
        "    except ValueError:\n",
        "        # Handle invalid input by displaying an error message.\n",
        "        # This will catch cases where the user enters non-numerical values.\n",
        "        print(\"Error: Please enter valid numerical values.\")\n",
        "\n",
        "# Check if this script is being run directly (not imported as a module).\n",
        "# If it is, call the main function to execute the program.\n",
        "if __name__ == \"__main__\":\n",
        "    main()\n",
        "\n"
      ],
      "metadata": {
        "colab": {
          "base_uri": "https://localhost:8080/"
        },
        "id": "WFzjXfRNEV51",
        "outputId": "144f9680-8fda-490a-c49b-58ffc0784ba9"
      },
      "execution_count": 2,
      "outputs": [
        {
          "output_type": "stream",
          "name": "stdout",
          "text": [
            "Enter the number of customers: 4\n",
            "Enter height (in inches) for customer 1: 123\n",
            "Enter height (in inches) for customer 2: 23\n",
            "Enter height (in inches) for customer 3: 45\n",
            "Enter height (in inches) for customer 4: 32\n",
            "\n",
            "Heights (in inches): [123.0, 23.0, 45.0, 32.0]\n",
            "Heights (in centimeters): [312.42, 58.42, 114.3, 81.28]\n"
          ]
        }
      ]
    },
    {
      "cell_type": "code",
      "source": [],
      "metadata": {
        "id": "3c8I2M2bFf7q"
      },
      "execution_count": null,
      "outputs": []
    }
  ]
}